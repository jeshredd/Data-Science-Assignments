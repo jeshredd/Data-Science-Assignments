{
 "cells": [
  {
   "cell_type": "code",
   "execution_count": 1,
   "id": "68549c1a-7282-45af-956f-a20ee98b0b3d",
   "metadata": {},
   "outputs": [
    {
     "name": "stdin",
     "output_type": "stream",
     "text": [
      "enter the number: 5\n"
     ]
    },
    {
     "name": "stdout",
     "output_type": "stream",
     "text": [
      "prime\n"
     ]
    }
   ],
   "source": [
    " #EXERCISE-1 PRIME NUMBER\n",
    "n=int(input(\"enter the number:\",))   #inputting the number                                                 \n",
    "flag=0\n",
    "if(n==0 or n==1):\n",
    "  flag=1\n",
    "elif(n>2):\n",
    "  for i in range(2,n):   # checking factors\n",
    "    if(n%i ==0):     #checking the remainder\n",
    "     flag=1  #factor found variable is set to 1\n",
    "    break  #break the loop\n",
    "  else:\n",
    "    flag=0\n",
    "if(flag==0):\n",
    "  print('prime')\n",
    "else:\n",
    "  print('not prime')\n",
    "\n",
    "\n"
   ]
  },
  {
   "cell_type": "code",
   "execution_count": 3,
   "id": "c44f9b9f-5386-4496-bb4e-8833caae10de",
   "metadata": {},
   "outputs": [
    {
     "name": "stdout",
     "output_type": "stream",
     "text": [
      "what is  8 x 3 is\n"
     ]
    },
    {
     "name": "stdin",
     "output_type": "stream",
     "text": [
      "enter the answer: 24\n"
     ]
    },
    {
     "name": "stdout",
     "output_type": "stream",
     "text": [
      "correct answer\n"
     ]
    }
   ],
   "source": [
    "#EXERCISE-2\n",
    "import random                                                         \n",
    "n1=random.randint(1,10)# generating random numbers\n",
    "n2=random.randint(1,10)\n",
    "print(\"what is \",n1,\"x\",n2,\"is\")\n",
    "a=int(input(\"enter the answer:\",)) # taking the input\n",
    "if(a==n1*n2):  #checking the answer\n",
    "  print('correct answer')\n",
    "else:\n",
    "  print('wrong answer')\n"
   ]
  },
  {
   "cell_type": "code",
   "execution_count": 4,
   "id": "4376a186-6f73-48d2-bd8e-704ea8d38e05",
   "metadata": {},
   "outputs": [
    {
     "name": "stdin",
     "output_type": "stream",
     "text": [
      "enter the number n1: 100\n",
      "enter the number n2: 200\n"
     ]
    },
    {
     "name": "stdout",
     "output_type": "stream",
     "text": [
      "100,squared is10000\n",
      "102,squared is10404\n",
      "104,squared is10816\n",
      "106,squared is11236\n",
      "108,squared is11664\n",
      "110,squared is12100\n",
      "112,squared is12544\n",
      "114,squared is12996\n",
      "116,squared is13456\n",
      "118,squared is13924\n",
      "120,squared is14400\n",
      "122,squared is14884\n",
      "124,squared is15376\n",
      "126,squared is15876\n",
      "128,squared is16384\n",
      "130,squared is16900\n",
      "132,squared is17424\n",
      "134,squared is17956\n",
      "136,squared is18496\n",
      "138,squared is19044\n",
      "140,squared is19600\n",
      "142,squared is20164\n",
      "144,squared is20736\n",
      "146,squared is21316\n",
      "148,squared is21904\n",
      "150,squared is22500\n",
      "152,squared is23104\n",
      "154,squared is23716\n",
      "156,squared is24336\n",
      "158,squared is24964\n",
      "160,squared is25600\n",
      "162,squared is26244\n",
      "164,squared is26896\n",
      "166,squared is27556\n",
      "168,squared is28224\n",
      "170,squared is28900\n",
      "172,squared is29584\n",
      "174,squared is30276\n",
      "176,squared is30976\n",
      "178,squared is31684\n",
      "180,squared is32400\n",
      "182,squared is33124\n",
      "184,squared is33856\n",
      "186,squared is34596\n",
      "188,squared is35344\n",
      "190,squared is36100\n",
      "192,squared is36864\n",
      "194,squared is37636\n",
      "196,squared is38416\n",
      "198,squared is39204\n",
      "200,squared is40000\n",
      "None\n"
     ]
    }
   ],
   "source": [
    " #EXERCISE-3\n",
    "def square_of_even(n1,n2):  # defining a function                                 \n",
    "  for el in range(n1,n2+1): #defining the range\n",
    "    if(el%2==0): # checking for even numbers\n",
    "      print(f\"{el},squared is{el**2}\" )  # f is used to insert the number and square of the number\n",
    "n1=int(input(\"enter the number n1:\",))\n",
    "n2=int(input(\"enter the number n2:\",))\n",
    "b=square_of_even(100,200)\n",
    "print(b)"
   ]
  },
  {
   "cell_type": "code",
   "execution_count": 12,
   "id": "bf87189d-75e8-4938-9fe2-32f8005d4d23",
   "metadata": {},
   "outputs": [
    {
     "name": "stdin",
     "output_type": "stream",
     "text": [
      "enter the string: This is a sample text. This text will be used to demonstrate the word counter\n"
     ]
    },
    {
     "name": "stdout",
     "output_type": "stream",
     "text": [
      "{'This': 2, 'is': 1, 'a': 1, 'sample': 1, 'text.': 1, 'text': 1, 'will': 1, 'be': 1, 'used': 1, 'to': 1, 'demonstrate': 1, 'the': 1, 'word': 1, 'counter': 1}\n"
     ]
    }
   ],
   "source": [
    " #EXERCISE-4\n",
    "def word_counter(a): # defining a function                                         \n",
    "  count=dict()   #creating an empty dictionary to store word counts\n",
    "  word=a.split() #splitting the sentence to words\n",
    "  for el in word: # counting each word\n",
    "    if el in count:\n",
    "      count[el]+=1\n",
    "    else:\n",
    "      count[el]=1\n",
    "  return count\n",
    "a=str(input(\"enter the string:\",))# taking iput\n",
    "word_count=word_counter(a)\n",
    "print(word_count)\n",
    "\n",
    "\n",
    "\n",
    "\n"
   ]
  },
  {
   "cell_type": "code",
   "execution_count": 14,
   "id": "17f431e0-ddc2-46ec-b7b9-d088cfed940d",
   "metadata": {},
   "outputs": [
    {
     "name": "stdin",
     "output_type": "stream",
     "text": [
      "enter the string: racecar\n"
     ]
    },
    {
     "name": "stdout",
     "output_type": "stream",
     "text": [
      "True\n"
     ]
    }
   ],
   "source": [
    "#EXERCISE-5\n",
    "def is_palindrome(a):   #defining a function                               \n",
    " clean=a.lower()        # changing the words in to lower case\n",
    " return a==a[::-1]   #checking if palindrome or not through slicing a[::-1]->reverses the string\n",
    "\n",
    "a=str(input(\"enter the string:\",))# taking input\n",
    "b=is_palindrome(a)# calling the function\n",
    "print(b)\n",
    "\n",
    "\n",
    "\n",
    "\n",
    "\n"
   ]
  },
  {
   "cell_type": "code",
   "execution_count": null,
   "id": "c86c2431-8b26-4615-bd24-eefdac868614",
   "metadata": {},
   "outputs": [],
   "source": []
  }
 ],
 "metadata": {
  "kernelspec": {
   "display_name": "Python 3 (ipykernel)",
   "language": "python",
   "name": "python3"
  },
  "language_info": {
   "codemirror_mode": {
    "name": "ipython",
    "version": 3
   },
   "file_extension": ".py",
   "mimetype": "text/x-python",
   "name": "python",
   "nbconvert_exporter": "python",
   "pygments_lexer": "ipython3",
   "version": "3.12.7"
  }
 },
 "nbformat": 4,
 "nbformat_minor": 5
}
