{
 "cells": [
  {
   "cell_type": "code",
   "execution_count": 9,
   "id": "434e5770-b9f6-4f52-9da6-0275e8b2f2ae",
   "metadata": {},
   "outputs": [
    {
     "name": "stdout",
     "output_type": "stream",
     "text": [
      "Z_cal: -38.000\n",
      "z_crit : 1.645\n",
      " As z_cal <= z_crit ,accept H0 , There is no enough evidence to support the claim that the weekly operating costs are higher than the model suggests\n"
     ]
    }
   ],
   "source": [
    "# Hypothesis testing\n",
    "# 1. Hypothesis statement:\n",
    "# H0: u0= 4000  =1000+5 x (600) the operating costs for a franchise model matches.\n",
    "# H1: u1>4000 the operating costs for a franchise model are higher\n",
    "import numpy as np\n",
    "import scipy.stats as st\n",
    "# 2. calculating the test statistics\n",
    "sample_mean=3050\n",
    "fmodel_mean=1000+5*600\n",
    "sigma= 5* 25\n",
    "n=25\n",
    "alpha =0.05\n",
    "m_error=sigma/(np.sqrt(n))\n",
    "z_cal=((sample_mean-fmodel_mean)/m_error)\n",
    "# 3. determining the critical values\n",
    "z_crit=st.norm.ppf(1-alpha)  # one tailed test thus we are using only alpha\n",
    "# 4. comparing the test statistics\n",
    "print(f\"Z_cal: {z_cal:.3f}\")\n",
    "print(f\"z_crit : {z_crit:.3f}\")\n",
    "# 5. conclusion\n",
    "\n",
    "if z_cal<= z_crit:\n",
    "  print(\" As z_cal <= z_crit ,accept H0 , There is no enough evidence to support the claim that the weekly operating costs are higher than the model suggests\")\n",
    "else:\n",
    "  print(\" As z_cal > z_crit ,reject H0 , There is strong evidence to support the claim that the weekly operating costs are higher than the model suggests.\")"
   ]
  },
  {
   "cell_type": "code",
   "execution_count": 11,
   "id": "eff1e893-b546-4a7e-b004-d672496b1304",
   "metadata": {},
   "outputs": [
    {
     "name": "stdout",
     "output_type": "stream",
     "text": [
      "Chi2_calculated: 5.638\n",
      "Chi2_critical: 9.488\n",
      " As chi2_cal<=chi2_crit ,Accept H0 , There is no signficant association between the device type and the customers satisfaction levels. \n"
     ]
    }
   ],
   "source": [
    "# CHI-SQUARE TESTING\n",
    "# 1. hypothesis statement:\n",
    "# H0:There is no signficant association between the device type and the customers satisfaction levels.\n",
    "# H1: There is signficant association between the device type and the customers satisfaction levels.\n",
    "import numpy as np\n",
    "import pandas as pd\n",
    "import scipy.stats as st\n",
    "# defining columns\n",
    "data = {\n",
    "    'Smart Thermostat': [50, 80, 60, 30, 20],\n",
    "    'Smart Light': [70, 100, 90, 50, 50],\n",
    "}\n",
    "# defining rows\n",
    "satisfaction_levels = [\n",
    "    'Very Satisfied',\n",
    "    'Satisfied',\n",
    "    'Neutral',\n",
    "    'Unsatisfied',\n",
    "    'Very Unsatisfied'\n",
    "]\n",
    "#creating a dataframe\n",
    "df=pd.DataFrame(data,index=satisfaction_levels)\n",
    "# converting datafrae to array for the test\n",
    "observed=df.values\n",
    "# 2. computing the chi-square test statistics\n",
    "chi2_cal, p_value, dof, expected = st.chi2_contingency(observed)\n",
    "# 3. Determining the critical values\n",
    "alpha=0.05\n",
    "chi2_crit=st.chi2.ppf(1-alpha,dof) \n",
    "print(f\"Chi2_calculated: {chi2_cal:.3f}\")\n",
    "print(f\"Chi2_critical: {chi2_crit:.3f}\")\n",
    "# 4. Making a decision\n",
    "if chi2_cal<=chi2_crit:\n",
    "  print(\" As chi2_cal<=chi2_crit ,Accept H0 , There is no signficant association between the device type and the customers satisfaction levels. \")\n",
    "else:\n",
    "  print(\" As chi2_cal>chi2_crit , Reject H0,  There is signficant association between the device type and the customers satisfaction levels.\")\n"
   ]
  },
  {
   "cell_type": "code",
   "execution_count": null,
   "id": "2cb2ec82-c8f9-4e9f-898e-3b86781c4bd2",
   "metadata": {},
   "outputs": [],
   "source": []
  }
 ],
 "metadata": {
  "kernelspec": {
   "display_name": "Python [conda env:base] *",
   "language": "python",
   "name": "conda-base-py"
  },
  "language_info": {
   "codemirror_mode": {
    "name": "ipython",
    "version": 3
   },
   "file_extension": ".py",
   "mimetype": "text/x-python",
   "name": "python",
   "nbconvert_exporter": "python",
   "pygments_lexer": "ipython3",
   "version": "3.12.7"
  }
 },
 "nbformat": 4,
 "nbformat_minor": 5
}
