{
 "cells": [
  {
   "cell_type": "code",
   "execution_count": 1,
   "id": "630f5bde-1c4f-4931-9237-1294fb3e5845",
   "metadata": {},
   "outputs": [
    {
     "name": "stdout",
     "output_type": "stream",
     "text": [
      "sample_mean:1.239\n",
      "sample_std:0.193\n",
      "confidence_interval:(1.090,1.387)\n"
     ]
    }
   ],
   "source": [
    "# Question-1: Building 99% Confidence Interval Using Sample Standard Deviation.\n",
    "# Here we are using t distribution because the population std deviation is unknown and the sample size is small i.e(n<30)\n",
    "import numpy as np\n",
    "import scipy.stats as st\n",
    "\n",
    "data=[1.13, 1.55, 1.43, 0.92, 1.25, 1.36, 1.32, 0.85, 1.07, 1.48, 1.20, 1.33, 1.18, 1.22, 1.29]\n",
    "sample_mean=np.mean(data) # finding the sample mean\n",
    "sample_std=np.std(data,ddof=1) # finding the sample std_deviation  (ddof =1 to calculate sample std deviation)\n",
    "confidence=0.99\n",
    "alpha=1-confidence\n",
    "n=len(data)\n",
    "df=n-1\n",
    "c_interval=st.t.interval(confidence,df,sample_mean,(sample_std/np.sqrt(n)))  #finding the confidence interval using t-distribution\n",
    "print(f\"sample_mean:{sample_mean:.3f}\")\n",
    "print(f\"sample_std:{sample_std:.3f}\")\n",
    "print(f\"confidence_interval:({c_interval[0]:.3f},{c_interval[1]:.3f})\") #.3f is used to display 3points after decimal"
   ]
  },
  {
   "cell_type": "code",
   "execution_count": 11,
   "id": "77f0fc70-8c1b-44b9-b779-dcad71ebc9f2",
   "metadata": {},
   "outputs": [
    {
     "name": "stdout",
     "output_type": "stream",
     "text": [
      "pop_mean:1.239\n",
      "pop_std:0.200\n",
      "confidence_interval:(1.106,1.372)\n"
     ]
    }
   ],
   "source": [
    "# Question-2 :. Building 99% Confidence Interval Using Known Population Standard Deviation\n",
    "# Here we are using z-distribution instead of t-distribution because the population std_deviation is known.though we can use t-distribution ,but it is advised to use z-distribution when pop std_deviation is known .\n",
    "data=[1.13, 1.55, 1.43, 0.92, 1.25, 1.36, 1.32, 0.85, 1.07, 1.48, 1.20, 1.33, 1.18, 1.22, 1.29]\n",
    "pop_mean=np.mean(data) # finding the sample mean\n",
    "pop_std=0.2 \n",
    "confidence=0.99\n",
    "alpha=1-confidence\n",
    "n=len(data)\n",
    "df=n-1\n",
    "c_interval=st.norm.interval(confidence,pop_mean,(pop_std/np.sqrt(n)))  #finding the confidence interval using z-distribution\n",
    "print(f\"pop_mean:{pop_mean:.3f}\")\n",
    "print(f\"pop_std:{pop_std:.3f}\")\n",
    "print(f\"confidence_interval:({c_interval[0]:.3f},{c_interval[1]:.3f})\")#.3f is used to display 3points after decimal"
   ]
  }
 ],
 "metadata": {
  "kernelspec": {
   "display_name": "Python [conda env:base] *",
   "language": "python",
   "name": "conda-base-py"
  },
  "language_info": {
   "codemirror_mode": {
    "name": "ipython",
    "version": 3
   },
   "file_extension": ".py",
   "mimetype": "text/x-python",
   "name": "python",
   "nbconvert_exporter": "python",
   "pygments_lexer": "ipython3",
   "version": "3.12.7"
  }
 },
 "nbformat": 4,
 "nbformat_minor": 5
}
